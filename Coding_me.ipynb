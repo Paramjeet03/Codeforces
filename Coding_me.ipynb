{
 "cells": [
  {
   "cell_type": "markdown",
   "id": "d8f80eed-46e4-49ba-927a-a5ae81035963",
   "metadata": {},
   "source": [
    "## Day :- 01\n"
   ]
  },
  {
   "cell_type": "markdown",
   "id": "bf7e08ed-35b8-4ce6-a7ff-30efc734cb24",
   "metadata": {},
   "source": [
    "## --> A.Watermalon"
   ]
  },
  {
   "cell_type": "code",
   "execution_count": 5,
   "id": "c6b9d8cf-ce9f-4f1b-851c-4e2cca9a5e74",
   "metadata": {
    "tags": []
   },
   "outputs": [
    {
     "name": "stdout",
     "output_type": "stream",
     "text": [
      "Enter the weight of watermalon 50\n"
     ]
    },
    {
     "name": "stdout",
     "output_type": "stream",
     "text": [
      "Yes\n"
     ]
    }
   ],
   "source": [
    "weight=int(input('Enter the weight of watermalon'))\n",
    "if weight==2:\n",
    "    print('No')\n",
    "elif weight%2==0:\n",
    "    print('Yes')\n",
    "else:\n",
    "    print('No')"
   ]
  },
  {
   "cell_type": "markdown",
   "id": "628e5361-c20c-43b5-a55b-84341eb70b03",
   "metadata": {},
   "source": [
    "## --> A. Way Too Long Words"
   ]
  },
  {
   "cell_type": "code",
   "execution_count": null,
   "id": "277f3b51-85b3-4fc1-8a16-bc83db1caa1d",
   "metadata": {
    "tags": []
   },
   "outputs": [],
   "source": [
    "for i in range(int(input())):\n",
    "    a=str(input())\n",
    "    lenght=len(a)\n",
    "    if lenght<=10:\n",
    "        print(a)\n",
    "    else:\n",
    "        print(a[0]+lenght-2,+a[lenght-1])"
   ]
  },
  {
   "cell_type": "markdown",
   "id": "c6c75005-421b-48e5-a379-c8cb9fe4b5ee",
   "metadata": {},
   "source": [
    "##### "
   ]
  },
  {
   "cell_type": "markdown",
   "id": "0830eab5-5d18-4d6b-a281-ab4e7867c7a2",
   "metadata": {},
   "source": [
    "## --> A. Team :-"
   ]
  },
  {
   "cell_type": "code",
   "execution_count": null,
   "id": "2ed25a10-b6a6-4338-97d0-f57fe49a58c1",
   "metadata": {
    "tags": []
   },
   "outputs": [],
   "source": [
    "for i in range(1,int(input())):\n",
    "    solution=list(input())\n",
    "    a=solution[0]\n",
    "    b=solution[2]\n",
    "    c=solution[4]\n",
    "    if a==b=='1'or b==c=='1'or c==a=='1' or a==b==c=='1':\n",
    "        print(i)"
   ]
  },
  {
   "cell_type": "markdown",
   "id": "e15a88b8-d6c2-4ad1-b1ca-986901c14218",
   "metadata": {},
   "source": [
    "## --> A. Next Round :-"
   ]
  },
  {
   "cell_type": "code",
   "execution_count": 40,
   "id": "53836916-1624-489e-905f-a035519cd013",
   "metadata": {
    "tags": []
   },
   "outputs": [
    {
     "name": "stdout",
     "output_type": "stream",
     "text": [
      " 5 5\n",
      " 1 1 1 1 1\n"
     ]
    },
    {
     "name": "stdout",
     "output_type": "stream",
     "text": [
      "5\n"
     ]
    }
   ],
   "source": [
    "a,b =map(int, input().split())\n",
    "y=list(map(int,input().split()))\n",
    "for i in y:\n",
    "    if i<y[b-1] or i==0:\n",
    "        a-=1 \n",
    "print(a)"
   ]
  },
  {
   "cell_type": "markdown",
   "id": "fd8ff662-ee94-4474-b19e-5754cedf7d45",
   "metadata": {
    "tags": []
   },
   "source": [
    "# --> A.Bit++ :-"
   ]
  },
  {
   "cell_type": "code",
   "execution_count": 53,
   "id": "03feb990-6c1b-4fd7-b269-d35949d0d34a",
   "metadata": {
    "tags": []
   },
   "outputs": [
    {
     "name": "stdout",
     "output_type": "stream",
     "text": [
      " 5\n",
      " ++x\n",
      " --x\n",
      " ++x\n",
      " --x\n",
      " ++x\n"
     ]
    },
    {
     "name": "stdout",
     "output_type": "stream",
     "text": [
      "0\n"
     ]
    }
   ],
   "source": [
    "result=0\n",
    "for i in range(int(input())):\n",
    "    a=input()\n",
    "    if a=='++X' or a=='X++':\n",
    "        result+=1\n",
    "    elif a=='--X' or a=='X--':\n",
    "        result-=1\n",
    "print(result)"
   ]
  },
  {
   "cell_type": "markdown",
   "id": "296e32d1-bd63-4cbe-8220-1232fc90d037",
   "metadata": {},
   "source": [
    "## --> A. Domino piling :-"
   ]
  },
  {
   "cell_type": "code",
   "execution_count": 61,
   "id": "be656726-3996-40b9-b79c-14fd8654b468",
   "metadata": {
    "tags": []
   },
   "outputs": [
    {
     "name": "stdout",
     "output_type": "stream",
     "text": [
      " 3 3\n"
     ]
    },
    {
     "name": "stdout",
     "output_type": "stream",
     "text": [
      "4\n"
     ]
    }
   ],
   "source": [
    "m,n=map(int, input().split())\n",
    "area=m*n\n",
    "print(area//2)"
   ]
  },
  {
   "cell_type": "markdown",
   "id": "c512ffd8-65e4-49b3-81c8-9800dcc10692",
   "metadata": {},
   "source": [
    "## --> A. Beautiful Matrix :-"
   ]
  },
  {
   "cell_type": "code",
   "execution_count": null,
   "id": "620a1466-6af8-4987-959d-0f7ae287c43b",
   "metadata": {
    "tags": []
   },
   "outputs": [],
   "source": [
    "for i in [2,1,0,1,2]:\n",
    "    a=(input().split())\n",
    "    if '1' in a:\n",
    "        b=a.index('1')+1\n",
    "        if b>3:\n",
    "            print((b-3)+i)\n",
    "        else :\n",
    "            print((3-b)+i)"
   ]
  },
  {
   "cell_type": "markdown",
   "id": "d0825a93-f620-4c7e-bf29-7bf3391dc87f",
   "metadata": {},
   "source": [
    "# --> A.Petya and Strings:-"
   ]
  },
  {
   "cell_type": "code",
   "execution_count": 2,
   "id": "4da8e200-cc64-4e74-bb1c-200f1914ad67",
   "metadata": {
    "tags": []
   },
   "outputs": [
    {
     "name": "stdout",
     "output_type": "stream",
     "text": [
      " aaasdc\n",
      " sdsdsa\n"
     ]
    },
    {
     "name": "stdout",
     "output_type": "stream",
     "text": [
      "-1\n"
     ]
    }
   ],
   "source": [
    "a,b=input().lower(),input().lower()\n",
    "print((a>b)-(a<b))\n"
   ]
  },
  {
   "cell_type": "markdown",
   "id": "881822e7-3e4c-412f-8107-9d3b86598469",
   "metadata": {},
   "source": [
    "# -->A. Helpful Maths:- "
   ]
  },
  {
   "cell_type": "code",
   "execution_count": 34,
   "id": "bb2db90e-cf32-4a9c-a7d8-5e5c840be5b6",
   "metadata": {
    "tags": []
   },
   "outputs": [
    {
     "name": "stdout",
     "output_type": "stream",
     "text": [
      " 5+3+5\n"
     ]
    },
    {
     "name": "stdout",
     "output_type": "stream",
     "text": [
      "3+5+5\n"
     ]
    }
   ],
   "source": [
    "b=input()\n",
    "l=[i for i in b if i != '+']\n",
    "print(\"+\".join(sorted(l)))"
   ]
  },
  {
   "cell_type": "code",
   "execution_count": 38,
   "id": "b70d87b1-ead0-4c42-b89d-3da9ff1dac71",
   "metadata": {
    "tags": []
   },
   "outputs": [
    {
     "data": {
      "text/plain": [
       "'3+5+5'"
      ]
     },
     "execution_count": 38,
     "metadata": {},
     "output_type": "execute_result"
    }
   ],
   "source": [
    "'+'.join(sorted(l))"
   ]
  },
  {
   "cell_type": "code",
   "execution_count": 46,
   "id": "3a6f03dd-71bf-4cb3-9c10-7d92e923ab32",
   "metadata": {
    "tags": []
   },
   "outputs": [
    {
     "name": "stdout",
     "output_type": "stream",
     "text": [
      " kajsbua\n"
     ]
    },
    {
     "data": {
      "text/plain": [
       "'K'"
      ]
     },
     "execution_count": 46,
     "metadata": {},
     "output_type": "execute_result"
    }
   ],
   "source": [
    "a=input()\n",
    "a=a[0].capitalize()\n",
    "a"
   ]
  },
  {
   "cell_type": "markdown",
   "id": "06c33053-fec6-48be-9f51-e59a6b52babc",
   "metadata": {},
   "source": [
    "# A. Word Capitalization :- "
   ]
  },
  {
   "cell_type": "code",
   "execution_count": 29,
   "id": "6d759891",
   "metadata": {},
   "outputs": [
    {
     "name": "stdout",
     "output_type": "stream",
     "text": [
      "Suraj\n"
     ]
    }
   ],
   "source": [
    "word = input()\n",
    "print(word[0].upper()+word[1:])"
   ]
  },
  {
   "cell_type": "markdown",
   "id": "00fdf5fa",
   "metadata": {},
   "source": [
    "# A. Boy or Girl :-"
   ]
  },
  {
   "cell_type": "code",
   "execution_count": 18,
   "id": "15ac11fb",
   "metadata": {},
   "outputs": [
    {
     "name": "stdout",
     "output_type": "stream",
     "text": [
      "IGNORE HIM!\n"
     ]
    }
   ],
   "source": [
    "a=input()\n",
    "b=len(a)\n",
    "c=[]\n",
    "for j in range(b):\n",
    "    for i in a[j]:\n",
    "        if i not in c :\n",
    "            c.append(i)\n",
    "\n",
    "\n",
    "if len(c)%2 == 0:\n",
    "        print(\"CHAT WITH HER!\")\n",
    "else:\n",
    "        print(\"IGNORE HIM!\")\n",
    "\n",
    "\n",
    "    "
   ]
  },
  {
   "cell_type": "markdown",
   "id": "2d3f5905",
   "metadata": {},
   "source": [
    "# A. Bear and Big Brother :-"
   ]
  },
  {
   "cell_type": "code",
   "execution_count": 8,
   "id": "fb4cd569",
   "metadata": {},
   "outputs": [
    {
     "name": "stdout",
     "output_type": "stream",
     "text": [
      "2\n"
     ]
    }
   ],
   "source": [
    "a,b=map(int, input().split())\n",
    "cycle=0\n",
    "while a<=b:\n",
    "    a*=3\n",
    "    b*=2\n",
    "    cycle+=1\n",
    "print(cycle)"
   ]
  },
  {
   "cell_type": "markdown",
   "id": "79b944c3",
   "metadata": {},
   "source": [
    "# A. Stones on the Table"
   ]
  },
  {
   "cell_type": "code",
   "execution_count": 15,
   "id": "a5c97abe",
   "metadata": {},
   "outputs": [
    {
     "name": "stdout",
     "output_type": "stream",
     "text": [
      "1\n"
     ]
    }
   ],
   "source": [
    "s=int(input())\n",
    "c=input()\n",
    "i=1\n",
    "count=0\n",
    "while (i<s):\n",
    "    if c[i-1]==c[i] :\n",
    "        count+=1\n",
    "    i+=1\n",
    "print(count)\n",
    "\n",
    "        \n",
    "        "
   ]
  },
  {
   "cell_type": "markdown",
   "id": "c47c5130",
   "metadata": {},
   "source": [
    "# A. Elephant"
   ]
  },
  {
   "cell_type": "code",
   "execution_count": null,
   "id": "996b00f9",
   "metadata": {},
   "outputs": [],
   "source": [
    "d=int(input())\n",
    "if d<= 5:\n",
    "    print(1)\n",
    "elif d>=5:\n",
    "    if d%5!=0:\n",
    "        print(d//5+1)\n",
    "    else :\n",
    "        print(d//5)"
   ]
  },
  {
   "cell_type": "markdown",
   "id": "b044ac55",
   "metadata": {},
   "source": [
    "# \t110A - Nearly Lucky Number :-"
   ]
  },
  {
   "cell_type": "code",
   "execution_count": 7,
   "id": "524f6ffa",
   "metadata": {},
   "outputs": [
    {
     "name": "stdout",
     "output_type": "stream",
     "text": [
      "NO\n"
     ]
    }
   ],
   "source": [
    "a,b=input(),0\n",
    "for i in a:\n",
    "    if i==\"4\"or i==\"7\":\n",
    "        b+=1\n",
    "if b==7 or b==4:\n",
    "    print(\"YES\")\n",
    "else:\n",
    "    print(\"NO\")"
   ]
  },
  {
   "cell_type": "markdown",
   "id": "a119452e",
   "metadata": {},
   "source": [
    "# A. Anton and Danik"
   ]
  },
  {
   "cell_type": "code",
   "execution_count": 13,
   "id": "ba26b8bd",
   "metadata": {},
   "outputs": [
    {
     "name": "stdout",
     "output_type": "stream",
     "text": [
      "Danik\n"
     ]
    }
   ],
   "source": [
    "a,b=int(input()),input()\n",
    "a_win=0\n",
    "d_win=0\n",
    "for i in range(a):\n",
    "    if b[i] ==\"A\":\n",
    "        a_win+=1 \n",
    "    else:\n",
    "        d_win+=1\n",
    "if a_win < d_win:\n",
    "    print(\"Danik\")\n",
    "if a_win > d_win:\n",
    "    print(\"Anton\")\n",
    "if a_win == d_win:\n",
    "    print(\"Friendship\")"
   ]
  },
  {
   "cell_type": "markdown",
   "id": "9f81c130",
   "metadata": {},
   "source": [
    "# A. Translation\n"
   ]
  },
  {
   "cell_type": "code",
   "execution_count": 14,
   "id": "e04e6e5e",
   "metadata": {},
   "outputs": [],
   "source": [
    "a,b=input(),input()\n",
    "if a == b[::-1] :\n",
    "    print(\"YES\")\n",
    "else :\n",
    "    print(\"NO\")"
   ]
  },
  {
   "cell_type": "markdown",
   "id": "ffc58fed",
   "metadata": {},
   "source": [
    "# A. Tram"
   ]
  },
  {
   "cell_type": "code",
   "execution_count": 4,
   "id": "5a43ce85",
   "metadata": {},
   "outputs": [
    {
     "name": "stdout",
     "output_type": "stream",
     "text": [
      "0\n"
     ]
    }
   ],
   "source": [
    "a=int(input())\n",
    "In=0\n",
    "out=0\n",
    "p,g=0,0\n",
    "for i in range(a):\n",
    "    out,In=map(int,input().split())\n",
    "    p-=out\n",
    "    p+=In\n",
    "    if p>g:\n",
    "        g=p\n",
    "print(g)\n"
   ]
  },
  {
   "cell_type": "markdown",
   "id": "85d5b0bf",
   "metadata": {},
   "source": [
    "# A. Vanya and Fence\n"
   ]
  },
  {
   "cell_type": "code",
   "execution_count": 20,
   "id": "99b5ee6f",
   "metadata": {},
   "outputs": [
    {
     "name": "stdout",
     "output_type": "stream",
     "text": [
      "4\n"
     ]
    }
   ],
   "source": [
    "a,h=map(int,input().split())\n",
    "t=0\n",
    "p=input().split(\" \")\n",
    "for i in range(len(p)):\n",
    "    if int(p[i]) <= h:\n",
    "        t+=1\n",
    "    else:\n",
    "        t+=2\n",
    "print(t)\n"
   ]
  },
  {
   "cell_type": "markdown",
   "id": "b22ce7ed",
   "metadata": {},
   "source": [
    "# A. Beautiful Year"
   ]
  },
  {
   "cell_type": "code",
   "execution_count": 31,
   "id": "bbbdce31",
   "metadata": {},
   "outputs": [
    {
     "name": "stdout",
     "output_type": "stream",
     "text": [
      "2014\n"
     ]
    }
   ],
   "source": [
    "a=int(input())\n",
    "\n",
    "j=1\n",
    "while j==1:\n",
    "    a+=1\n",
    "    b=str(a)\n",
    "    if len(b)==len(set(b)):\n",
    "        print(a)\n",
    "        j-=1\n",
    "# set :- Data type"
   ]
  },
  {
   "cell_type": "code",
   "execution_count": 35,
   "id": "4852112c",
   "metadata": {},
   "outputs": [
    {
     "data": {
      "text/plain": [
       "{'0', '1', '2'}"
      ]
     },
     "execution_count": 35,
     "metadata": {},
     "output_type": "execute_result"
    }
   ],
   "source": [
    "c=\"2010\"\n",
    "set(c)\n"
   ]
  },
  {
   "cell_type": "code",
   "execution_count": null,
   "id": "6e38ed9c",
   "metadata": {},
   "outputs": [],
   "source": []
  }
 ],
 "metadata": {
  "kernelspec": {
   "display_name": "Python 3 (ipykernel)",
   "language": "python",
   "name": "python3"
  },
  "language_info": {
   "codemirror_mode": {
    "name": "ipython",
    "version": 3
   },
   "file_extension": ".py",
   "mimetype": "text/x-python",
   "name": "python",
   "nbconvert_exporter": "python",
   "pygments_lexer": "ipython3",
   "version": "3.11.4"
  }
 },
 "nbformat": 4,
 "nbformat_minor": 5
}
